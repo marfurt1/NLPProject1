{
 "cells": [
  {
   "cell_type": "code",
   "execution_count": null,
   "metadata": {},
   "outputs": [],
   "source": [
    "!pip install pandas\n",
    "!pip install matplotlib\n",
    "!pip install seaborn\n",
    "!pip install nltk\n",
    "!pip install wordcloud\n",
    "!pip install sklearn\n",
    "!pip install text_preprocessing"
   ]
  },
  {
   "cell_type": "code",
   "execution_count": 2,
   "metadata": {},
   "outputs": [],
   "source": [
    "# Step 0. Load libraries and custom modules\n",
    "# Dataframes and matrices ----------------------------------------------\n",
    "import pandas as pd\n",
    "import numpy as np\n",
    "# Graphics -------------------------------------------------------------\n",
    "import matplotlib.pyplot as plt\n",
    "import seaborn as sns\n",
    "from matplotlib import style\n",
    "plt.style.use('tableau-colorblind10')\n",
    "# Mathematical functions -----------------------------------------------\n",
    "from scipy.stats import norm\n",
    "# Text processors ------------------------------------------------------\n",
    "import unicodedata\n",
    "import re\n",
    "import nltk\n",
    "from nltk.corpus import stopwords\n",
    "from nltk.tokenize import word_tokenize\n",
    "from wordcloud import WordCloud\n",
    "# Preprocessing --------------------------------------------------------\n",
    "from sklearn.model_selection import train_test_split\n",
    "from sklearn.pipeline import Pipeline\n",
    "from sklearn.compose import ColumnTransformer\n",
    "# Text modeling --------------------------------------------------------\n",
    "from sklearn.feature_extraction.text import CountVectorizer\n",
    "from sklearn.feature_extraction.text import TfidfVectorizer\n",
    "# Model creating -------------------------------------------------------\n",
    "from sklearn.naive_bayes import GaussianNB\n",
    "from sklearn.naive_bayes import MultinomialNB\n",
    "# Metrics --------------------------------------------------------------\n",
    "from sklearn.metrics import accuracy_score\n",
    "from sklearn.metrics import classification_report\n",
    "from sklearn.metrics import confusion_matrix\n",
    "from sklearn.metrics import plot_roc_curve\n",
    "from sklearn.metrics import ConfusionMatrixDisplay\n",
    "from sklearn.metrics import make_scorer\n",
    "# Custom functions -----------------------------------------------------\n",
    "from text_preprocessing import clean_stopwords "
   ]
  },
  {
   "cell_type": "code",
   "execution_count": 4,
   "metadata": {},
   "outputs": [],
   "source": [
    "# We'll use a collection of sentiments for text analysis as a dataset\n",
    "# This dataset was published in Saif M. Mohammad and Peter Turney. (2013), \n",
    "# ``Crowdsourcing a Word-Emotion Association Lexicon.'' \n",
    "# Computational Intelligence, 29(3): 436-465.\n",
    "# It's only for research and educational purposes.\n",
    "# URL: http://saifmohammad.com/WebPages/lexicons.html  \n",
    "nrc = pd.read_csv('../data/raw/NRC.csv', names=['word','sentiment','polarity'])\n",
    "nrc = nrc.query('polarity == 1')"
   ]
  },
  {
   "cell_type": "code",
   "execution_count": 6,
   "metadata": {},
   "outputs": [
    {
     "name": "stdout",
     "output_type": "stream",
     "text": [
      "<class 'pandas.core.frame.DataFrame'>\n",
      "RangeIndex: 20761 entries, 0 to 20760\n",
      "Data columns (total 8 columns):\n",
      " #   Column                   Non-Null Count  Dtype  \n",
      "---  ------                   --------------  -----  \n",
      " 0   source                   20761 non-null  object \n",
      " 1   id_str                   20761 non-null  int64  \n",
      " 2   text                     20761 non-null  object \n",
      " 3   created_at               20761 non-null  object \n",
      " 4   retweet_count            20761 non-null  int64  \n",
      " 5   in_reply_to_user_id_str  2442 non-null   float64\n",
      " 6   favorite_count           20761 non-null  int64  \n",
      " 7   is_retweet               20761 non-null  bool   \n",
      "dtypes: bool(1), float64(1), int64(3), object(3)\n",
      "memory usage: 1.1+ MB\n"
     ]
    }
   ],
   "source": [
    "# Step 1. Load the data\n",
    "# Data extracted from https://www.thetrumparchive.com\n",
    "# Data case: During the 2016 US presidential election, the candidate \n",
    "# Donald Trump used twitter to communicate with potential voters. \n",
    "# The campaign was during 2015-06-17 and 2016-11-08\n",
    "# We'll try to analyze these campaign tweets from iPhone and Android\n",
    "# Data description\n",
    "# source -> device of origin\n",
    "# id_str -> unique identifier\n",
    "# text -> tweet text content\n",
    "# created_at -> Date of creation, not including timezone\n",
    "# retweet_count -> Count of retweets (difusion)\n",
    "# in_reply_to_usr_id_str -> If it's a reply, grab the user id\n",
    "# favourite_count -> Count of users that liked the tweet\n",
    "# is_retweet -> If the post is a retweet  \n",
    "# 1.1 Open data and get a glimpse\n",
    "df_raw = pd.read_csv('../data/raw/trump_tweets.csv')\n",
    "df_raw.info()"
   ]
  },
  {
   "cell_type": "code",
   "execution_count": 7,
   "metadata": {},
   "outputs": [
    {
     "data": {
      "text/html": [
       "<div>\n",
       "<style scoped>\n",
       "    .dataframe tbody tr th:only-of-type {\n",
       "        vertical-align: middle;\n",
       "    }\n",
       "\n",
       "    .dataframe tbody tr th {\n",
       "        vertical-align: top;\n",
       "    }\n",
       "\n",
       "    .dataframe thead th {\n",
       "        text-align: right;\n",
       "    }\n",
       "</style>\n",
       "<table border=\"1\" class=\"dataframe\">\n",
       "  <thead>\n",
       "    <tr style=\"text-align: right;\">\n",
       "      <th></th>\n",
       "      <th>source</th>\n",
       "      <th>id_str</th>\n",
       "      <th>text</th>\n",
       "      <th>created_at</th>\n",
       "      <th>retweet_count</th>\n",
       "      <th>in_reply_to_user_id_str</th>\n",
       "      <th>favorite_count</th>\n",
       "      <th>is_retweet</th>\n",
       "    </tr>\n",
       "  </thead>\n",
       "  <tbody>\n",
       "    <tr>\n",
       "      <th>18362</th>\n",
       "      <td>Twitter for Android</td>\n",
       "      <td>688333063093374976</td>\n",
       "      <td>The Ted Cruz wiseguy apology to the people of ...</td>\n",
       "      <td>2016-01-16T12:12:45Z</td>\n",
       "      <td>2348</td>\n",
       "      <td>NaN</td>\n",
       "      <td>5856</td>\n",
       "      <td>False</td>\n",
       "    </tr>\n",
       "    <tr>\n",
       "      <th>9457</th>\n",
       "      <td>Twitter Web Client</td>\n",
       "      <td>290909948056051713</td>\n",
       "      <td>Can you imagine if Obama had to give today's p...</td>\n",
       "      <td>2013-01-14T19:55:11Z</td>\n",
       "      <td>139</td>\n",
       "      <td>NaN</td>\n",
       "      <td>49</td>\n",
       "      <td>False</td>\n",
       "    </tr>\n",
       "    <tr>\n",
       "      <th>9107</th>\n",
       "      <td>Twitter Web Client</td>\n",
       "      <td>296704862203297792</td>\n",
       "      <td>.@yankees are privately ecstatic over A-Rod's ...</td>\n",
       "      <td>2013-01-30T19:42:06Z</td>\n",
       "      <td>52</td>\n",
       "      <td>NaN</td>\n",
       "      <td>14</td>\n",
       "      <td>False</td>\n",
       "    </tr>\n",
       "    <tr>\n",
       "      <th>659</th>\n",
       "      <td>TweetDeck</td>\n",
       "      <td>111493251340566528</td>\n",
       "      <td>Why was @BarackObama selling guns to Mexican d...</td>\n",
       "      <td>2011-09-07T17:37:17Z</td>\n",
       "      <td>561</td>\n",
       "      <td>NaN</td>\n",
       "      <td>280</td>\n",
       "      <td>False</td>\n",
       "    </tr>\n",
       "    <tr>\n",
       "      <th>5758</th>\n",
       "      <td>Twitter for Android</td>\n",
       "      <td>364572183462297600</td>\n",
       "      <td>@MdsdadDotson Thanks Michelle!</td>\n",
       "      <td>2013-08-06T02:22:36Z</td>\n",
       "      <td>0</td>\n",
       "      <td>4.552625e+08</td>\n",
       "      <td>1</td>\n",
       "      <td>False</td>\n",
       "    </tr>\n",
       "    <tr>\n",
       "      <th>8611</th>\n",
       "      <td>Twitter Web Client</td>\n",
       "      <td>302421568326336512</td>\n",
       "      <td>@sfyfe_n Thanks Neil.</td>\n",
       "      <td>2013-02-15T14:18:15Z</td>\n",
       "      <td>0</td>\n",
       "      <td>1.084427e+09</td>\n",
       "      <td>0</td>\n",
       "      <td>False</td>\n",
       "    </tr>\n",
       "    <tr>\n",
       "      <th>6095</th>\n",
       "      <td>Twitter for Android</td>\n",
       "      <td>355832475487961090</td>\n",
       "      <td>@JTFoxx   True and thanks!</td>\n",
       "      <td>2013-07-12T23:34:07Z</td>\n",
       "      <td>2</td>\n",
       "      <td>3.312671e+07</td>\n",
       "      <td>0</td>\n",
       "      <td>False</td>\n",
       "    </tr>\n",
       "    <tr>\n",
       "      <th>8135</th>\n",
       "      <td>Twitter for Android</td>\n",
       "      <td>308600274249981953</td>\n",
       "      <td>@foyt4timewinner. Thanks!</td>\n",
       "      <td>2013-03-04T15:30:13Z</td>\n",
       "      <td>2</td>\n",
       "      <td>7.547599e+07</td>\n",
       "      <td>0</td>\n",
       "      <td>False</td>\n",
       "    </tr>\n",
       "    <tr>\n",
       "      <th>11301</th>\n",
       "      <td>Twitter for Android</td>\n",
       "      <td>471991556850081792</td>\n",
       "      <td>Have you ever seen our country look weaker or ...</td>\n",
       "      <td>2014-05-29T12:28:50Z</td>\n",
       "      <td>482</td>\n",
       "      <td>NaN</td>\n",
       "      <td>439</td>\n",
       "      <td>False</td>\n",
       "    </tr>\n",
       "    <tr>\n",
       "      <th>16788</th>\n",
       "      <td>Instagram</td>\n",
       "      <td>745298514096308225</td>\n",
       "      <td>Obama-Clinton inherited $10T in debt and turne...</td>\n",
       "      <td>2016-06-21T16:53:07Z</td>\n",
       "      <td>6477</td>\n",
       "      <td>NaN</td>\n",
       "      <td>15008</td>\n",
       "      <td>False</td>\n",
       "    </tr>\n",
       "  </tbody>\n",
       "</table>\n",
       "</div>"
      ],
      "text/plain": [
       "                    source              id_str  \\\n",
       "18362  Twitter for Android  688333063093374976   \n",
       "9457    Twitter Web Client  290909948056051713   \n",
       "9107    Twitter Web Client  296704862203297792   \n",
       "659              TweetDeck  111493251340566528   \n",
       "5758   Twitter for Android  364572183462297600   \n",
       "8611    Twitter Web Client  302421568326336512   \n",
       "6095   Twitter for Android  355832475487961090   \n",
       "8135   Twitter for Android  308600274249981953   \n",
       "11301  Twitter for Android  471991556850081792   \n",
       "16788            Instagram  745298514096308225   \n",
       "\n",
       "                                                    text  \\\n",
       "18362  The Ted Cruz wiseguy apology to the people of ...   \n",
       "9457   Can you imagine if Obama had to give today's p...   \n",
       "9107   .@yankees are privately ecstatic over A-Rod's ...   \n",
       "659    Why was @BarackObama selling guns to Mexican d...   \n",
       "5758                      @MdsdadDotson Thanks Michelle!   \n",
       "8611                               @sfyfe_n Thanks Neil.   \n",
       "6095                          @JTFoxx   True and thanks!   \n",
       "8135                           @foyt4timewinner. Thanks!   \n",
       "11301  Have you ever seen our country look weaker or ...   \n",
       "16788  Obama-Clinton inherited $10T in debt and turne...   \n",
       "\n",
       "                 created_at  retweet_count  in_reply_to_user_id_str  \\\n",
       "18362  2016-01-16T12:12:45Z           2348                      NaN   \n",
       "9457   2013-01-14T19:55:11Z            139                      NaN   \n",
       "9107   2013-01-30T19:42:06Z             52                      NaN   \n",
       "659    2011-09-07T17:37:17Z            561                      NaN   \n",
       "5758   2013-08-06T02:22:36Z              0             4.552625e+08   \n",
       "8611   2013-02-15T14:18:15Z              0             1.084427e+09   \n",
       "6095   2013-07-12T23:34:07Z              2             3.312671e+07   \n",
       "8135   2013-03-04T15:30:13Z              2             7.547599e+07   \n",
       "11301  2014-05-29T12:28:50Z            482                      NaN   \n",
       "16788  2016-06-21T16:53:07Z           6477                      NaN   \n",
       "\n",
       "       favorite_count  is_retweet  \n",
       "18362            5856       False  \n",
       "9457               49       False  \n",
       "9107               14       False  \n",
       "659               280       False  \n",
       "5758                1       False  \n",
       "8611                0       False  \n",
       "6095                0       False  \n",
       "8135                0       False  \n",
       "11301             439       False  \n",
       "16788           15008       False  "
      ]
     },
     "execution_count": 7,
     "metadata": {},
     "output_type": "execute_result"
    }
   ],
   "source": [
    "# 1.1 Sample some observations\n",
    "df_raw.sample(10)"
   ]
  },
  {
   "cell_type": "code",
   "execution_count": null,
   "metadata": {},
   "outputs": [],
   "source": [
    "# Step 2. Transform and wrangle the data\n",
    "# 2.1 Make a copy\n",
    "df_interim = df_raw.copy()"
   ]
  },
  {
   "cell_type": "code",
   "execution_count": null,
   "metadata": {},
   "outputs": [],
   "source": [
    "# 2.2 Get rid of uninformative columns\n",
    "df_interim = df_interim.drop(['id_str','is_retweet','in_reply_to_user_id_str'], axis=1)"
   ]
  },
  {
   "cell_type": "code",
   "execution_count": null,
   "metadata": {},
   "outputs": [],
   "source": [
    "# 2.3 Convert columns to the right format\n",
    "df_interim['created_at'] = df_interim['created_at'].astype('datetime64')\n",
    "df_interim['source'] = pd.Categorical(df_interim['source'])"
   ]
  },
  {
   "cell_type": "code",
   "execution_count": null,
   "metadata": {},
   "outputs": [],
   "source": [
    "# 2.4 Filter dates for analysis\n",
    "df_interim = df_interim.loc[(df_interim['created_at'] >= '2015-06-17') \\\n",
    "    & (df_interim['created_at'] <= '2016-11-08')]"
   ]
  },
  {
   "cell_type": "code",
   "execution_count": null,
   "metadata": {},
   "outputs": [],
   "source": [
    "# 2.5 Consider time is UTC, convert to EST\n"
   ]
  },
  {
   "cell_type": "code",
   "execution_count": null,
   "metadata": {},
   "outputs": [],
   "source": [
    "# 2.5 Filter source for analysis\n",
    "df_interim = df_interim.loc[(df_interim['source'].str.contains('iPhone')) \\\n",
    "    | (df_interim['source'].str.contains('Android'))]\n",
    "df_interim['source'] = df_interim['source'].cat.remove_unused_categories()"
   ]
  },
  {
   "cell_type": "code",
   "execution_count": null,
   "metadata": {},
   "outputs": [],
   "source": [
    "# 2.5 Save and create a copy for analysis\n",
    "df_interim.to_csv('data/interim/trump_tweets.csv', index=False)\n",
    "df = df_interim.copy()"
   ]
  },
  {
   "cell_type": "code",
   "execution_count": null,
   "metadata": {},
   "outputs": [],
   "source": [
    "# Step 3. Perform EDA\n",
    "# 3.1 Get basic info\n",
    "df.info()"
   ]
  },
  {
   "cell_type": "code",
   "execution_count": null,
   "metadata": {},
   "outputs": [],
   "source": [
    "# 3.2 Get a sample\n",
    "df.sample(10)"
   ]
  },
  {
   "cell_type": "code",
   "execution_count": null,
   "metadata": {},
   "outputs": [],
   "source": [
    "# 3.3 Describe numerical and datetime data\n",
    "df.describe(datetime_is_numeric=True)"
   ]
  },
  {
   "cell_type": "code",
   "execution_count": null,
   "metadata": {},
   "outputs": [],
   "source": [
    "# 3.4 Describe categorical data\n",
    "df['source'].value_counts()"
   ]
  },
  {
   "cell_type": "code",
   "execution_count": null,
   "metadata": {},
   "outputs": [],
   "source": [
    "# 3.5 Get histograms for numerical data"
   ]
  },
  {
   "cell_type": "code",
   "execution_count": null,
   "metadata": {},
   "outputs": [],
   "source": [
    "# 3.6 Make a plot of tweets frequence rate by source"
   ]
  },
  {
   "cell_type": "code",
   "execution_count": null,
   "metadata": {},
   "outputs": [],
   "source": [
    "# 3.7 Get a glimpse of the most retweeted tweets"
   ]
  },
  {
   "cell_type": "code",
   "execution_count": null,
   "metadata": {},
   "outputs": [],
   "source": [
    "# 3.8 Get a glimpse of the most liked tweets"
   ]
  },
  {
   "cell_type": "code",
   "execution_count": null,
   "metadata": {},
   "outputs": [],
   "source": [
    "# 3.9 Let's get a glimpse of common words in the tweets' text"
   ]
  },
  {
   "cell_type": "code",
   "execution_count": null,
   "metadata": {},
   "outputs": [],
   "source": [
    "# 3.10 Process text to extract stopwords"
   ]
  },
  {
   "cell_type": "code",
   "execution_count": null,
   "metadata": {},
   "outputs": [],
   "source": [
    "# 3.11 Extract urls\n",
    "url_pat = 'https://t.co/[A-Za-z\\d]+|&amp;'\n"
   ]
  },
  {
   "cell_type": "code",
   "execution_count": null,
   "metadata": {},
   "outputs": [],
   "source": [
    "# 3.12 Extract special characters\n"
   ]
  },
  {
   "cell_type": "code",
   "execution_count": null,
   "metadata": {},
   "outputs": [],
   "source": [
    "# 3.13 Extract numbers\n"
   ]
  },
  {
   "cell_type": "code",
   "execution_count": null,
   "metadata": {},
   "outputs": [],
   "source": [
    "# 3.14 See the results\n"
   ]
  },
  {
   "cell_type": "code",
   "execution_count": null,
   "metadata": {},
   "outputs": [],
   "source": [
    "# 3.15 Let's see a wordcloud\n"
   ]
  }
 ],
 "metadata": {
  "kernelspec": {
   "display_name": "Python 3.8.13 64-bit ('3.8.13')",
   "language": "python",
   "name": "python3"
  },
  "language_info": {
   "codemirror_mode": {
    "name": "ipython",
    "version": 3
   },
   "file_extension": ".py",
   "mimetype": "text/x-python",
   "name": "python",
   "nbconvert_exporter": "python",
   "pygments_lexer": "ipython3",
   "version": "3.8.13"
  },
  "orig_nbformat": 4,
  "vscode": {
   "interpreter": {
    "hash": "110cc1dee26208153f2972f08a2ad52b6a56238dc66d48e87fb757ef2996db56"
   }
  }
 },
 "nbformat": 4,
 "nbformat_minor": 2
}
